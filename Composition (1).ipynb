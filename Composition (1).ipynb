{
 "cells": [
  {
   "cell_type": "code",
   "execution_count": null,
   "metadata": {
    "collapsed": false
   },
   "outputs": [],
   "source": [
    "%pylab inline\n",
    "import csv\n",
    "import numbers"
   ]
  },
  {
   "cell_type": "code",
   "execution_count": null,
   "metadata": {
    "collapsed": true
   },
   "outputs": [],
   "source": [
    "dataPath = 'C:/Users/nuffield/Desktop/Nuffield/Ellipsometry data.txt'\n",
    "x = []\n",
    "y = []\n",
    "t = []"
   ]
  },
  {
   "cell_type": "code",
   "execution_count": null,
   "metadata": {
    "collapsed": false
   },
   "outputs": [],
   "source": [
    "with open(dataPath) as f:\n",
    "    data = csv.reader(f, delimiter='\\t')\n",
    "    for item in data:\n",
    "        x.append(-float(item[1]))\n",
    "        y.append(float(item[0]))\n",
    "        t.append(float(item[2])/10)"
   ]
  },
  {
   "cell_type": "code",
   "execution_count": null,
   "metadata": {
    "collapsed": true
   },
   "outputs": [],
   "source": [
    "res = 20\n",
    "xi = linspace(min(x), max(x), res)\n",
    "yi = linspace(min(y), max(y), res)"
   ]
  },
  {
   "cell_type": "code",
   "execution_count": null,
   "metadata": {
    "collapsed": false
   },
   "outputs": [],
   "source": [
    "zi = griddata(x, y, t, xi, yi, interp='linear')"
   ]
  },
  {
   "cell_type": "code",
   "execution_count": null,
   "metadata": {
    "collapsed": false
   },
   "outputs": [],
   "source": [
    "fig = figure(figsize=(9,7))\n",
    "ax = fig.add_subplot(111)\n",
    "\n",
    "ax.set_aspect('equal')\n",
    "\n",
    "s = ax.contour(xi, yi, zi, 10, colors='k')\n",
    "c = ax.contourf(xi, yi, zi, 100, cmap='jet')\n",
    "plt.ylabel('Y positon', fontsize = 16)\n",
    "plt.xlabel('X position', fontsize = 16)\n",
    "matplotlib.rc('xtick', labelsize=16) \n",
    "matplotlib.rc('ytick', labelsize=16)\n",
    "cbar = fig.colorbar(c)\n",
    "cbar.ax.set_ylabel(r'Thickness $(nm)$', rotation=90, fontsize = 16, labelpad= 20)\n",
    "figtext(.05, -0.03, \"Figure 9: Data on how thickness of CdTe changes across a substrate. 317 data points were collected\\n to get this information via ellipsometry and the gaps were filled in by interpolation to make a contour plot.\")"
   ]
  },
  {
   "cell_type": "code",
   "execution_count": null,
   "metadata": {
    "collapsed": true
   },
   "outputs": [],
   "source": [
    "dataPath_2 = 'C:/Users/nuffield/Desktop/Nuffield/elip2.txt'\n",
    "t_2 = []\n",
    "x_2 = []\n",
    "y_2 = []\n",
    "comp = []\n",
    "n = 0\n"
   ]
  },
  {
   "cell_type": "code",
   "execution_count": null,
   "metadata": {
    "collapsed": false
   },
   "outputs": [],
   "source": [
    "with open(dataPath_2) as f:\n",
    "    data = csv.reader(f, delimiter='\\t')\n",
    "    for item in data:\n",
    "        x_2.append(float(item[0]))\n",
    "        y_2.append(float(item[1]))\n",
    "        t_2.append(float(item[2])/10)"
   ]
  },
  {
   "cell_type": "code",
   "execution_count": null,
   "metadata": {
    "collapsed": false
   },
   "outputs": [],
   "source": [
    "zi_2 = griddata(x_2, y_2, t_2, xi, yi, interp='linear')"
   ]
  },
  {
   "cell_type": "code",
   "execution_count": null,
   "metadata": {
    "collapsed": false
   },
   "outputs": [],
   "source": [
    "fig = figure(figsize=(9,7))\n",
    "ax = fig.add_subplot(111)\n",
    "\n",
    "ax.set_aspect('equal')\n",
    "\n",
    "s = ax.contour(xi, yi, zi_2, 10, colors='k')\n",
    "c = ax.contourf(xi, yi, zi_2, 100, cmap='jet')\n",
    "plt.ylabel('Y positon', fontsize = 16)\n",
    "plt.xlabel('X position', fontsize = 16)\n",
    "matplotlib.rc('xtick', labelsize=16) \n",
    "matplotlib.rc('ytick', labelsize=16)\n",
    "cbar = fig.colorbar(c)\n",
    "cbar.ax.set_ylabel(r'Thickness $(nm)$', rotation=90, fontsize = 16, labelpad= 20)\n",
    "figtext(.05, -0.03, \"Figure 10: Data on how thickness of CdSe changes across a substrate. 317 data points were collected\\n to get this information via ellipsometry and the gaps were filled in by interpolation to make a contour plot.\")"
   ]
  },
  {
   "cell_type": "code",
   "execution_count": null,
   "metadata": {
    "collapsed": false
   },
   "outputs": [],
   "source": [
    "for item in t:\n",
    "    comp.append((10*(float((t_2[n])/(item + t_2[n])))))\n",
    "    n += 1"
   ]
  },
  {
   "cell_type": "code",
   "execution_count": null,
   "metadata": {
    "collapsed": false
   },
   "outputs": [],
   "source": [
    "zi_comp = griddata(x, y, comp, xi, yi, interp='linear')"
   ]
  },
  {
   "cell_type": "code",
   "execution_count": null,
   "metadata": {
    "collapsed": false,
    "scrolled": true
   },
   "outputs": [],
   "source": [
    "fig = figure(figsize=(9,7))\n",
    "ax = fig.add_subplot(111)\n",
    "\n",
    "ax.set_aspect('equal')\n",
    "\n",
    "s = ax.contour(xi, yi, zi_comp, 10, colors='k')\n",
    "c = ax.contourf(xi, yi, zi_comp, 100, cmap='jet')\n",
    "plt.ylabel('Y positon', fontsize = 16)\n",
    "plt.xlabel('X position', fontsize = 16)\n",
    "matplotlib.rc('xtick', labelsize=16) \n",
    "matplotlib.rc('ytick', labelsize=16)\n",
    "cbar = fig.colorbar(c)\n",
    "cbar.ax.set_ylabel('Composition (%Se)', rotation=90, fontsize = 16, labelpad= 20)\n",
    "figtext(.05, -0.03, \"\\nFigure 11: Data on how composition of Se to Te changes across the substrate. This was calculated by comparing\\n the thickness of Se to Te at the same position on the substrate to calculate the percentage of Se present.\")"
   ]
  },
  {
   "cell_type": "code",
   "execution_count": null,
   "metadata": {
    "collapsed": true
   },
   "outputs": [],
   "source": [
    "dataPath_3 = 'C:/Users/nuffield/Desktop/Nuffield/band gap data.txt'\n",
    "e01 = []\n",
    "x_e = []\n",
    "y_e = []"
   ]
  },
  {
   "cell_type": "code",
   "execution_count": null,
   "metadata": {
    "collapsed": false
   },
   "outputs": [],
   "source": [
    "with open(dataPath_3) as f:\n",
    "    data = csv.reader(f, delimiter='\\t')\n",
    "    for item in data:\n",
    "        x_e.append(float(item[0]))\n",
    "        y_e.append(float(item[1]))\n",
    "        e01.append(float(item[2]))\n"
   ]
  },
  {
   "cell_type": "code",
   "execution_count": null,
   "metadata": {
    "collapsed": true
   },
   "outputs": [],
   "source": [
    "res = 20\n",
    "xi_2 = linspace(min(x_e), max(x_e), res)\n",
    "yi_2 = linspace(min(y_e), max(y_e), res)"
   ]
  },
  {
   "cell_type": "code",
   "execution_count": null,
   "metadata": {
    "collapsed": false
   },
   "outputs": [],
   "source": [
    "zi_comp = griddata(x, y, comp, xi, yi, interp='linear')\n",
    "z_e01 = griddata(x_e, y_e, e01, xi_2, yi_2, interp='linear')"
   ]
  },
  {
   "cell_type": "code",
   "execution_count": null,
   "metadata": {
    "collapsed": false
   },
   "outputs": [],
   "source": [
    "plt.plot(((zi_comp.ravel())*10), z_e01.ravel(),'o')\n",
    "plt.ylabel(r'Band gap, $E_G$ (eV)', fontsize = 14)\n",
    "plt.xlabel('%Se' , fontsize = 14)\n",
    "figtext(-.05, -0.13, \"\\nFigure 12: Data on how the electron band gap of the materials surface changes across it in comparison\\n to the percentage of Se present on the surface. Data was acquired using ellipsometry and as both data\\n sets were of a different shape, data was interpolated from the gaps to plot a scatter graph.\")\n",
    "plt.show()\n"
   ]
  },
  {
   "cell_type": "code",
   "execution_count": null,
   "metadata": {
    "collapsed": true
   },
   "outputs": [],
   "source": []
  }
 ],
 "metadata": {
  "anaconda-cloud": {},
  "kernelspec": {
   "display_name": "Python [Root]",
   "language": "python",
   "name": "Python [Root]"
  },
  "language_info": {
   "codemirror_mode": {
    "name": "ipython",
    "version": 3
   },
   "file_extension": ".py",
   "mimetype": "text/x-python",
   "name": "python",
   "nbconvert_exporter": "python",
   "pygments_lexer": "ipython3",
   "version": "3.5.2"
  }
 },
 "nbformat": 4,
 "nbformat_minor": 0
}
