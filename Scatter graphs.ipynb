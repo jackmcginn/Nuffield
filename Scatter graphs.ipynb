{
 "cells": [
  {
   "cell_type": "code",
   "execution_count": 1,
   "metadata": {
    "collapsed": false
   },
   "outputs": [
    {
     "name": "stdout",
     "output_type": "stream",
     "text": [
      "Populating the interactive namespace from numpy and matplotlib\n"
     ]
    }
   ],
   "source": [
    "%pylab inline\n",
    "import csv\n",
    "import json"
   ]
  },
  {
   "cell_type": "code",
   "execution_count": 2,
   "metadata": {
    "collapsed": false
   },
   "outputs": [],
   "source": [
    "dataPath_1 = 'C:/Users/nuffield/Desktop/Nuffield-master/XPS_data_raw_updated.csv'\n",
    "p = open(dataPath_1) "
   ]
  },
  {
   "cell_type": "code",
   "execution_count": 3,
   "metadata": {
    "collapsed": false
   },
   "outputs": [],
   "source": [
    "dataPath = 'TCO_data.json'\n",
    "\n",
    "with open(dataPath) as f:\n",
    "    data = json.load(f)"
   ]
  },
  {
   "cell_type": "code",
   "execution_count": 4,
   "metadata": {
    "collapsed": false
   },
   "outputs": [],
   "source": [
    "ratio = []\n",
    "ne = []\n",
    "comp = {}\n",
    "n = 1\n",
    "mob = []\n",
    "Rs = []\n",
    "rem_pos_1 = []\n",
    "rem_pos_2 = []"
   ]
  },
  {
   "cell_type": "code",
   "execution_count": 5,
   "metadata": {
    "collapsed": false
   },
   "outputs": [],
   "source": [
    "reader = csv.reader(p)\n",
    "for row in reader:\n",
    "    if n == 1:\n",
    "        n += 1\n",
    "    else:\n",
    "        x = str(float(row[0]))\n",
    "        y = str(float(row[1]))\n",
    "        comp[x + ' ' + y] = float(row[2])/float(row[5])  \n"
   ]
  },
  {
   "cell_type": "code",
   "execution_count": 6,
   "metadata": {
    "collapsed": false
   },
   "outputs": [],
   "source": [
    "for item in comp:\n",
    "    ne.append(data.get(item).get('ne'))\n",
    "    ratio.append(comp.get(item))\n",
    "    mob.append(data.get(item).get('mob'))\n",
    "    Rs.append(log(data.get(item).get('Rs')))"
   ]
  },
  {
   "cell_type": "code",
   "execution_count": 7,
   "metadata": {
    "collapsed": false
   },
   "outputs": [],
   "source": [
    "plt.plot(ratio, ne, 'o')\n",
    "plt.ylabel(r'Carrier concentration $(cm^{-3})$', fontsize = 14)\n",
    "plt.xlabel('Al/Zn', fontsize = 14)\n",
    "matplotlib.rc('xtick', labelsize=10) \n",
    "matplotlib.rc('ytick', labelsize=10)\n",
    "pylab.ylim([0,4.5e20])\n",
    "figtext(.06, -.09, \"\\nFigure 6: Scatter graph showing the carrier concentration on a film against the zinc aluminium\\n composition of the film at the same point. Data extracted from transmittance spectra, with\\n respect to position over at 10 x 10 cm2 AZO film on a soda-lime glass substrate.\")"
   ]
  },
  {
   "cell_type": "code",
   "execution_count": 8,
   "metadata": {
    "collapsed": false
   },
   "outputs": [],
   "source": [
    "plt.plot(ratio, mob, 'o', color='red')\n",
    "plt.ylabel(r'Electron mobility $\\mu_e(cm{^2}V^{-1}s^{-1})$', fontsize = 14)\n",
    "plt.xlabel('Al/Zn', fontsize = 14)\n",
    "matplotlib.rc('xtick', labelsize=10) \n",
    "matplotlib.rc('ytick', labelsize=10)\n",
    "pylab.ylim([0,23])\n",
    "figtext(.06, -.09, \"\\nFigure 5: Scatter graph showing the electron mobility on a film against the zinc aluminium\\n composition of the film at the same point. Data extracted from transmittance spectra, with\\n respect to position over at 10 x 10 cm2 AZO film on a soda-lime glass substrate.\")"
   ]
  },
  {
   "cell_type": "code",
   "execution_count": 9,
   "metadata": {
    "collapsed": false
   },
   "outputs": [],
   "source": [
    "plt.plot(ratio,  Rs, 'o', color = 'green')\n",
    "plt.ylabel(r'Log of Resisitvity $(Ωcm)$', fontsize = 14)\n",
    "plt.xlabel('Al/Zn', fontsize = 14)\n",
    "matplotlib.rc('xtick', labelsize=10) \n",
    "matplotlib.rc('ytick', labelsize=10)\n",
    "figtext(.06, -.15, \"\\nFigure 7: Scatter graph showing the resistivity on a film against the zinc aluminium\\n composition of the film at the same point. Data extracted from transmittance spectra, with\\n respect to position over at 10 x 10 cm2 AZO film on a soda-lime glass substrate. Resistivity \\n has been logged to make the pattern clearer\")"
   ]
  },
  {
   "cell_type": "code",
   "execution_count": 10,
   "metadata": {
    "collapsed": false
   },
   "outputs": [],
   "source": [
    "plt.plot(ne,  mob, 'o', color = 'purple')\n",
    "plt.ylabel(r'Electron mobility $\\mu_e(cm{^2}V^{-1}s^{-1})$', fontsize = 14)\n",
    "plt.xlabel(r'Carrier concentration $(cm^{-3})$', fontsize = 14)\n",
    "matplotlib.rc('xtick', labelsize=10) \n",
    "matplotlib.rc('ytick', labelsize=10)\n",
    "pylab.xlim([0,4.5e20])\n",
    "pylab.ylim([0,23])\n",
    "figtext(.06, -.12, \"\\nFigure 8: Scatter graph showing the carrier on a film against the electron mobility\\n at the same point on the film. Data extracted from transmittance spectra, with\\n respect to position over at 10 x 10 cm2 AZO film on a soda-lime glass substrate.\")"
   ]
  },
  {
   "cell_type": "code",
   "execution_count": null,
   "metadata": {
    "collapsed": true
   },
   "outputs": [],
   "source": []
  }
 ],
 "metadata": {
  "anaconda-cloud": {},
  "kernelspec": {
   "display_name": "Python [Root]",
   "language": "python",
   "name": "Python [Root]"
  },
  "language_info": {
   "codemirror_mode": {
    "name": "ipython",
    "version": 3
   },
   "file_extension": ".py",
   "mimetype": "text/x-python",
   "name": "python",
   "nbconvert_exporter": "python",
   "pygments_lexer": "ipython3",
   "version": "3.5.2"
  }
 },
 "nbformat": 4,
 "nbformat_minor": 0
}
