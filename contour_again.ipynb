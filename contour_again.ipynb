{
 "cells": [
  {
   "cell_type": "code",
   "execution_count": 1,
   "metadata": {
    "collapsed": false
   },
   "outputs": [
    {
     "name": "stdout",
     "output_type": "stream",
     "text": [
      "Populating the interactive namespace from numpy and matplotlib\n"
     ]
    }
   ],
   "source": [
    "%pylab inline\n",
    "import json"
   ]
  },
  {
   "cell_type": "code",
   "execution_count": 2,
   "metadata": {
    "collapsed": true
   },
   "outputs": [],
   "source": [
    "dataPath = 'TCO_data.json'"
   ]
  },
  {
   "cell_type": "code",
   "execution_count": 3,
   "metadata": {
    "collapsed": false
   },
   "outputs": [],
   "source": [
    "with open(dataPath) as f:\n",
    "    data = json.load(f)"
   ]
  },
  {
   "cell_type": "code",
   "execution_count": 4,
   "metadata": {
    "collapsed": false
   },
   "outputs": [],
   "source": [
    "d = []\n",
    "x = []\n",
    "y = []\n",
    "Rs = []\n",
    "mob = []\n",
    "ne = []\n",
    "\n",
    "for item in data:\n",
    "    d.append(data.get(item).get('d'))\n",
    "    x.append(data.get(item).get('x'))\n",
    "    y.append(data.get(item).get('y'))\n",
    "    Rs.append(data.get(item).get('Rs'))\n",
    "    mob.append(data.get(item).get('mob'))\n",
    "    ne.append(data.get(item).get('ne'))"
   ]
  },
  {
   "cell_type": "code",
   "execution_count": 5,
   "metadata": {
    "collapsed": false
   },
   "outputs": [],
   "source": [
    "res = 1000\n",
    "xi = linspace(min(x), max(x), res)\n",
    "yi = linspace(min(y), max(y), res)"
   ]
  },
  {
   "cell_type": "code",
   "execution_count": 6,
   "metadata": {
    "collapsed": true
   },
   "outputs": [],
   "source": [
    "zi_d = griddata(x, y, d, xi, yi, interp='linear')"
   ]
  },
  {
   "cell_type": "code",
   "execution_count": 7,
   "metadata": {
    "collapsed": false
   },
   "outputs": [],
   "source": [
    "fig = figure(figsize=(9,7))\n",
    "ax = fig.add_subplot(111)\n",
    "\n",
    "ax.set_aspect('equal')\n",
    "\n",
    "s = ax.contour(xi, yi, zi_d, 10, colors='k')\n",
    "c = ax.contourf(xi, yi, zi_d, 100, cmap='jet')\n",
    "plt.ylabel('Y positon', fontsize = 16)\n",
    "plt.xlabel('X position', fontsize = 16)\n",
    "matplotlib.rc('xtick', labelsize=16) \n",
    "matplotlib.rc('ytick', labelsize=16)\n",
    "cbar = fig.colorbar(c)\n",
    "cbar.ax.set_ylabel(r'Thickness $(nm)$', rotation=90, fontsize = 16, labelpad= 20)\n",
    "figtext(.08, -0.02, \"\\nFigure 4: Contour plot showing change in thickness, extracted from transmittance spectra,\\n with respect to position over at 10 x 10 cm2 AZO film on a soda-lime glass substrate\")"
   ]
  },
  {
   "cell_type": "code",
   "execution_count": 8,
   "metadata": {
    "collapsed": false
   },
   "outputs": [],
   "source": [
    "zi_Rs = griddata(x, y, log(Rs), xi, yi, interp='linear')"
   ]
  },
  {
   "cell_type": "code",
   "execution_count": 9,
   "metadata": {
    "collapsed": false
   },
   "outputs": [],
   "source": [
    "fig = figure(figsize=(9,7))\n",
    "ax = fig.add_subplot(111)\n",
    "\n",
    "ax.set_aspect('equal')\n",
    "\n",
    "s = ax.contour(xi, yi, zi_Rs, 10, colors='k')\n",
    "c = ax.contourf(xi, yi, zi_Rs, 100, cmap='jet')\n",
    "plt.ylabel('Y positon', fontsize = 16)\n",
    "plt.xlabel('X position', fontsize = 16)\n",
    "matplotlib.rc('xtick', labelsize=16) \n",
    "matplotlib.rc('ytick', labelsize=16)\n",
    "cbar = fig.colorbar(c)\n",
    "cbar.ax.set_ylabel(r'Log of Resisitvity $(Ωcm)$', rotation=90, fontsize = 16, labelpad= 20)\n",
    "figtext(.05, -0.03, \"\\nFigure 3: Contour plot showing change in resistivity, extracted from transmittance spectra,\\n with respect to position over at 10 x 10 cm2 AZO film on a soda-lime glass substrate. It has beened logged\\n so a clearer pattern can be seen\")"
   ]
  },
  {
   "cell_type": "code",
   "execution_count": 10,
   "metadata": {
    "collapsed": false
   },
   "outputs": [],
   "source": [
    "zi_mob = griddata(x, y, mob, xi, yi, interp='linear')"
   ]
  },
  {
   "cell_type": "code",
   "execution_count": 11,
   "metadata": {
    "collapsed": false
   },
   "outputs": [],
   "source": [
    "fig = figure(figsize=(9,7))\n",
    "ax = fig.add_subplot(111)\n",
    "\n",
    "ax.set_aspect('equal')\n",
    "\n",
    "s = ax.contour(xi, yi, zi_mob, 10, colors='k')\n",
    "c = ax.contourf(xi, yi, zi_mob, 100, cmap='jet')\n",
    "plt.ylabel('Y positon', fontsize = 16)\n",
    "plt.xlabel('X position', fontsize = 16)\n",
    "matplotlib.rc('xtick', labelsize=16) \n",
    "matplotlib.rc('ytick', labelsize=16)\n",
    "cbar = fig.colorbar(c)\n",
    "cbar.ax.set_ylabel(r'Electron mobility $\\mu_e(cm{^2}V^{-1}s^{-1})$', rotation=90, fontsize = 16, labelpad= 20)\n",
    "figtext(.08, .005, \"\\nFigure 2: Contour plot showing change in electron mobility, extracted from transmittance spectra,\\n with respect to position over at 10 x 10 cm2 AZO film on a soda-lime glass substrate.\")"
   ]
  },
  {
   "cell_type": "code",
   "execution_count": 12,
   "metadata": {
    "collapsed": false
   },
   "outputs": [],
   "source": [
    "zi_ne = griddata(x, y, (ne), xi, yi, interp='linear')"
   ]
  },
  {
   "cell_type": "code",
   "execution_count": 13,
   "metadata": {
    "collapsed": false
   },
   "outputs": [],
   "source": [
    "fig = figure(figsize=(9,7))\n",
    "ax = fig.add_subplot(111)\n",
    "\n",
    "ax.set_aspect('equal')\n",
    "\n",
    "s = ax.contour(xi, yi, zi_ne, 10, colors='k')\n",
    "c = ax.contourf(xi, yi, zi_ne, 100, cmap='jet')\n",
    "plt.ylabel('Y positon', fontsize = 16)\n",
    "plt.xlabel('X position', fontsize = 16)\n",
    "matplotlib.rc('xtick', labelsize=16) \n",
    "matplotlib.rc('ytick', labelsize=16)\n",
    "cbar = fig.colorbar(c)\n",
    "cbar.ax.set_ylabel(r'Carrier concentration $(cm^{-3})$', rotation=90, fontsize = 16, labelpad= 20)\n",
    "figtext(.08, .005, \"\\nFigure 1: Contour plot showing change in carrier concentration, extracted from transmittance spectra,\\n with respect to position over at 10 x 10 cm2 AZO film on a soda-lime glass substrate.\")"
   ]
  }
 ],
 "metadata": {
  "anaconda-cloud": {},
  "kernelspec": {
   "display_name": "Python [Root]",
   "language": "python",
   "name": "Python [Root]"
  },
  "language_info": {
   "codemirror_mode": {
    "name": "ipython",
    "version": 3
   },
   "file_extension": ".py",
   "mimetype": "text/x-python",
   "name": "python",
   "nbconvert_exporter": "python",
   "pygments_lexer": "ipython3",
   "version": "3.5.2"
  },
  "widgets": {
   "state": {},
   "version": "1.1.2"
  }
 },
 "nbformat": 4,
 "nbformat_minor": 0
}
